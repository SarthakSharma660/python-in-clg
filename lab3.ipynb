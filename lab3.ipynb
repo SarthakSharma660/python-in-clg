{
 "cells": [
  {
   "cell_type": "code",
   "execution_count": 1,
   "metadata": {},
   "outputs": [
    {
     "name": "stdout",
     "output_type": "stream",
     "text": [
      "Inside loop\n",
      "Inside loop\n",
      "Inside loop\n",
      "Inside else\n"
     ]
    }
   ],
   "source": [
    "counter = 0\n",
    "\n",
    "while counter < 3:\n",
    "    print(\"Inside loop\")\n",
    "    counter = counter + 1\n",
    "else:\n",
    "    print(\"Inside else\")"
   ]
  },
  {
   "cell_type": "code",
   "execution_count": 2,
   "metadata": {},
   "outputs": [
    {
     "name": "stdout",
     "output_type": "stream",
     "text": [
      "enter a string\n",
      "sarthak\n"
     ]
    },
    {
     "data": {
      "text/plain": [
       "7"
      ]
     },
     "execution_count": 2,
     "metadata": {},
     "output_type": "execute_result"
    }
   ],
   "source": [
    "a=input(\"enter a string\\n\")\n",
    "len(a) "
   ]
  },
  {
   "cell_type": "code",
   "execution_count": 3,
   "metadata": {},
   "outputs": [
    {
     "name": "stdout",
     "output_type": "stream",
     "text": [
      "enter a string\n",
      "sarthak\n",
      "1\n",
      "2\n",
      "3\n",
      "4\n",
      "5\n",
      "6\n",
      "7\n"
     ]
    }
   ],
   "source": [
    "a=input(\"enter a string\\n\")\n",
    "count=0\n",
    "for char in a:\n",
    "    count+=1\n",
    "    print(count)"
   ]
  },
  {
   "cell_type": "code",
   "execution_count": 4,
   "metadata": {},
   "outputs": [
    {
     "name": "stdout",
     "output_type": "stream",
     "text": [
      "ENTER A STRING\n",
      "sarthak\n",
      "saak\n"
     ]
    }
   ],
   "source": [
    "A=input(\"ENTER A STRING\\n\")\n",
    "if len(A)>2:\n",
    "    f=A[0:2]+A[-2:]\n",
    "    print(f)\n",
    "else:\n",
    "    print(A)"
   ]
  },
  {
   "cell_type": "code",
   "execution_count": 5,
   "metadata": {},
   "outputs": [
    {
     "name": "stdout",
     "output_type": "stream",
     "text": [
      "enter a string\n",
      "sarthak\n"
     ]
    },
    {
     "data": {
      "text/plain": [
       "'sarthak'"
      ]
     },
     "execution_count": 5,
     "metadata": {},
     "output_type": "execute_result"
    }
   ],
   "source": [
    "s=input(\"enter a string\\n\")\n",
    "char1=s[0:1]\n",
    "s1=s.replace(char1,'$')\n",
    "char1+s1[1:]"
   ]
  },
  {
   "cell_type": "code",
   "execution_count": 6,
   "metadata": {},
   "outputs": [
    {
     "name": "stdout",
     "output_type": "stream",
     "text": [
      "enter the 1st string\n",
      "sarthak\n",
      "enter the 2nd string\n",
      "sharma\n",
      "sarthak sharma\n"
     ]
    }
   ],
   "source": [
    "r=input(\"enter the 1st string\\n\")\n",
    "s=input(\"enter the 2nd string\\n\")\n",
    "char1=r[0:1]\n",
    "r=r.replace(r[0:1],s[0:1])\n",
    "s=s.replace(s[0:1],char1)\n",
    "print(r,s)"
   ]
  },
  {
   "cell_type": "code",
   "execution_count": 7,
   "metadata": {},
   "outputs": [
    {
     "name": "stdout",
     "output_type": "stream",
     "text": [
      "enter a string\n",
      "sarthak\n",
      "sarthaking\n",
      "sarthak\n"
     ]
    }
   ],
   "source": [
    "r=input(\"enter a string\\n\")\n",
    "if len(r)>3:\n",
    "    s=r+\"ing\"\n",
    "    print(s)\n",
    "if  r[-3:]==\"ing\":\n",
    "    r=r.replace(r[-3:],\"ly\")\n",
    "else:\n",
    "    print(r)"
   ]
  },
  {
   "cell_type": "code",
   "execution_count": 8,
   "metadata": {},
   "outputs": [
    {
     "name": "stdout",
     "output_type": "stream",
     "text": [
      "enter a string\n",
      " my mom makes mud cake\n"
     ]
    },
    {
     "data": {
      "text/plain": [
       "' my$mom$makes$mud$cake'"
      ]
     },
     "execution_count": 8,
     "metadata": {},
     "output_type": "execute_result"
    }
   ],
   "source": [
    "s=input(\"enter a string\\n\")\n",
    "char1=s[0:1]\n",
    "s1=s.replace(char1,'$')\n",
    "char1+s1[1:]"
   ]
  },
  {
   "cell_type": "code",
   "execution_count": null,
   "metadata": {},
   "outputs": [],
   "source": []
  }
 ],
 "metadata": {
  "kernelspec": {
   "display_name": "Python 3",
   "language": "python",
   "name": "python3"
  },
  "language_info": {
   "codemirror_mode": {
    "name": "ipython",
    "version": 3
   },
   "file_extension": ".py",
   "mimetype": "text/x-python",
   "name": "python",
   "nbconvert_exporter": "python",
   "pygments_lexer": "ipython3",
   "version": "3.7.4"
  }
 },
 "nbformat": 4,
 "nbformat_minor": 2
}
